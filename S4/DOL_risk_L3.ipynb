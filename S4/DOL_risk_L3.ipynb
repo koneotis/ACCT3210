{
 "cells": [
  {
   "cell_type": "markdown",
   "id": "de04a2cb",
   "metadata": {},
   "source": [
    "# A quick example of the risk-reward trade off that DOL captures.\n",
    "\n",
    "First a couple of set up things:\n"
   ]
  },
  {
   "cell_type": "code",
   "execution_count": 1,
   "id": "fe606547",
   "metadata": {},
   "outputs": [
    {
     "data": {
      "text/html": [
       "<style>.container { width:100% !important; }</style>"
      ],
      "text/plain": [
       "<IPython.core.display.HTML object>"
      ]
     },
     "metadata": {},
     "output_type": "display_data"
    }
   ],
   "source": [
    "# these are just to tell python what parts of it we want to use:\n",
    "import numpy as np\n",
    "import pandas as pd\n",
    "import statsmodels.api as sm\n",
    "import matplotlib.pyplot as plt\n",
    "# and this sets the width of the window\n",
    "from IPython.core.display import display, HTML\n",
    "display(HTML(\"<style>.container { width:100% !important; }</style>\"))"
   ]
  },
  {
   "cell_type": "markdown",
   "id": "9140cbd1",
   "metadata": {},
   "source": [
    "# Now lets collect some data:\n",
    "\n",
    "1. What data do we need?\n",
    "     - __SALES DATA__\n",
    "2. Where could we get this data from?\n",
    "    - Our records \n",
    "    - Vendor data \n",
    "    - Other renters"
   ]
  },
  {
   "cell_type": "code",
   "execution_count": 2,
   "id": "7a2816ff",
   "metadata": {},
   "outputs": [],
   "source": [
    "np.random.seed(10)"
   ]
  },
  {
   "cell_type": "code",
   "execution_count": 3,
   "id": "d884b4c4",
   "metadata": {},
   "outputs": [],
   "source": [
    "obs = 52 * 3"
   ]
  },
  {
   "cell_type": "code",
   "execution_count": 6,
   "id": "eedbb0b5",
   "metadata": {},
   "outputs": [],
   "source": [
    "rel_range = range(0,100)"
   ]
  },
  {
   "cell_type": "markdown",
   "id": "0b8c4167",
   "metadata": {},
   "source": [
    "# THE ACTUAL SIMULATION IS HERE!!!!!!!!!!!"
   ]
  },
  {
   "cell_type": "code",
   "execution_count": 8,
   "id": "4d5c1a0e",
   "metadata": {},
   "outputs": [],
   "source": [
    "volume = np.random.choice(rel_range, size=obs)"
   ]
  },
  {
   "cell_type": "code",
   "execution_count": 22,
   "id": "a87242d3",
   "metadata": {},
   "outputs": [
    {
     "data": {
      "text/plain": [
       "array([ 9, 15, 64, 28, 89, 93, 29,  8, 73,  0, 40, 36, 16, 11, 54, 88, 62,\n",
       "       33, 72, 78, 49, 51, 54, 77, 69, 13, 25, 13, 92, 86, 30, 30, 89, 12,\n",
       "       65, 31, 57, 36, 27, 18, 93, 77, 22, 23, 94, 11, 28, 74, 88,  9, 15,\n",
       "       18, 80, 71, 88, 11, 17, 46,  7, 75, 28, 33, 84, 96, 88, 44,  5,  4,\n",
       "       71, 88, 88, 50, 54, 34, 15, 77, 88, 15,  6, 85, 22, 11, 12, 92, 96,\n",
       "       62, 57, 79, 42, 57, 97, 50, 45, 40, 89, 73, 37,  0, 18, 23,  3, 29,\n",
       "       16, 84, 82, 14, 51, 79, 17, 50, 53, 25, 48, 17, 32, 81, 80, 41, 90,\n",
       "       12, 30, 81, 17, 16,  0, 31, 73, 64, 38, 22, 96, 66, 67, 62, 95, 99,\n",
       "       27, 82, 62, 77, 48, 93, 75, 86, 37, 11, 21, 33, 95, 43, 88, 96, 73,\n",
       "       40, 43, 90])"
      ]
     },
     "execution_count": 22,
     "metadata": {},
     "output_type": "execute_result"
    }
   ],
   "source": [
    "# p = plt.hist(volume, bins=len(rel_range))\n",
    "volume"
   ]
  },
  {
   "cell_type": "code",
   "execution_count": 13,
   "id": "b72c9017",
   "metadata": {},
   "outputs": [],
   "source": [
    "R_u = 200\n",
    "R = volume * R_u"
   ]
  },
  {
   "cell_type": "code",
   "execution_count": 14,
   "id": "69b38bd7",
   "metadata": {},
   "outputs": [
    {
     "data": {
      "text/plain": [
       "array([ 1800,  3000, 12800,  5600, 17800, 18600,  5800,  1600, 14600,\n",
       "           0,  8000,  7200,  3200,  2200, 10800, 17600, 12400,  6600,\n",
       "       14400, 15600,  9800, 10200, 10800, 15400, 13800,  2600,  5000,\n",
       "        2600, 18400, 17200,  6000,  6000, 17800,  2400, 13000,  6200,\n",
       "       11400,  7200,  5400,  3600, 18600, 15400,  4400,  4600, 18800,\n",
       "        2200,  5600, 14800, 17600,  1800,  3000,  3600, 16000, 14200,\n",
       "       17600,  2200,  3400,  9200,  1400, 15000,  5600,  6600, 16800,\n",
       "       19200, 17600,  8800,  1000,   800, 14200, 17600, 17600, 10000,\n",
       "       10800,  6800,  3000, 15400, 17600,  3000,  1200, 17000,  4400,\n",
       "        2200,  2400, 18400, 19200, 12400, 11400, 15800,  8400, 11400,\n",
       "       19400, 10000,  9000,  8000, 17800, 14600,  7400,     0,  3600,\n",
       "        4600,   600,  5800,  3200, 16800, 16400,  2800, 10200, 15800,\n",
       "        3400, 10000, 10600,  5000,  9600,  3400,  6400, 16200, 16000,\n",
       "        8200, 18000,  2400,  6000, 16200,  3400,  3200,     0,  6200,\n",
       "       14600, 12800,  7600,  4400, 19200, 13200, 13400, 12400, 19000,\n",
       "       19800,  5400, 16400, 12400, 15400,  9600, 18600, 15000, 17200,\n",
       "        7400,  2200,  4200,  6600, 19000,  8600, 17600, 19200, 14600,\n",
       "        8000,  8600, 18000])"
      ]
     },
     "execution_count": 14,
     "metadata": {},
     "output_type": "execute_result"
    }
   ],
   "source": [
    "R"
   ]
  },
  {
   "cell_type": "code",
   "execution_count": 15,
   "id": "d23b72e9",
   "metadata": {},
   "outputs": [],
   "source": [
    "CM_u = [80,50,30]"
   ]
  },
  {
   "cell_type": "code",
   "execution_count": 23,
   "id": "f138404e",
   "metadata": {},
   "outputs": [],
   "source": [
    "CM1 = volume * CM_u[0]\n",
    "CM2 = volume * CM_u[1]\n",
    "CM3 = volume * CM_u[2]"
   ]
  },
  {
   "cell_type": "code",
   "execution_count": 24,
   "id": "6ca9698d",
   "metadata": {},
   "outputs": [],
   "source": [
    "FC = [2000, 800, 0]"
   ]
  },
  {
   "cell_type": "code",
   "execution_count": 25,
   "id": "3fafaedf",
   "metadata": {},
   "outputs": [],
   "source": [
    "OI1 = CM1 - FC[0]\n",
    "OI2 = CM2 - FC[1]\n",
    "OI3 = CM3 - FC[2]"
   ]
  },
  {
   "cell_type": "markdown",
   "id": "f6a140c5",
   "metadata": {},
   "source": [
    "# Some PANDAs Magic"
   ]
  },
  {
   "cell_type": "code",
   "execution_count": 26,
   "id": "b6679ec0",
   "metadata": {},
   "outputs": [],
   "source": [
    "col_dict =  {\n",
    "            \"volume\":volume, \n",
    "            \"OI1\":OI1,\n",
    "            \"OI2\":OI2,\n",
    "            \"OI3\":OI3,\n",
    "            }\n",
    "OI_data = pd.DataFrame(col_dict, columns=list(col_dict.keys()))"
   ]
  },
  {
   "cell_type": "code",
   "execution_count": 27,
   "id": "24afd188",
   "metadata": {},
   "outputs": [
    {
     "data": {
      "text/plain": [
       "array([-1280,  -800,  3120,   240,  5120,  5440,   320, -1360,  3840,\n",
       "       -2000,  1200,   880,  -720, -1120,  2320,  5040,  2960,   640,\n",
       "        3760,  4240,  1920,  2080,  2320,  4160,  3520,  -960,     0,\n",
       "        -960,  5360,  4880,   400,   400,  5120, -1040,  3200,   480,\n",
       "        2560,   880,   160,  -560,  5440,  4160,  -240,  -160,  5520,\n",
       "       -1120,   240,  3920,  5040, -1280,  -800,  -560,  4400,  3680,\n",
       "        5040, -1120,  -640,  1680, -1440,  4000,   240,   640,  4720,\n",
       "        5680,  5040,  1520, -1600, -1680,  3680,  5040,  5040,  2000,\n",
       "        2320,   720,  -800,  4160,  5040,  -800, -1520,  4800,  -240,\n",
       "       -1120, -1040,  5360,  5680,  2960,  2560,  4320,  1360,  2560,\n",
       "        5760,  2000,  1600,  1200,  5120,  3840,   960, -2000,  -560,\n",
       "        -160, -1760,   320,  -720,  4720,  4560,  -880,  2080,  4320,\n",
       "        -640,  2000,  2240,     0,  1840,  -640,   560,  4480,  4400,\n",
       "        1280,  5200, -1040,   400,  4480,  -640,  -720, -2000,   480,\n",
       "        3840,  3120,  1040,  -240,  5680,  3280,  3360,  2960,  5600,\n",
       "        5920,   160,  4560,  2960,  4160,  1840,  5440,  4000,  4880,\n",
       "         960, -1120,  -320,   640,  5600,  1440,  5040,  5680,  3840,\n",
       "        1200,  1440,  5200])"
      ]
     },
     "execution_count": 27,
     "metadata": {},
     "output_type": "execute_result"
    }
   ],
   "source": [
    "OI1"
   ]
  },
  {
   "cell_type": "code",
   "execution_count": 28,
   "id": "de02d363",
   "metadata": {},
   "outputs": [
    {
     "data": {
      "text/plain": [
       "array([-350,  -50, 2400,  600, 3650, 3850,  650, -400, 2850, -800, 1200,\n",
       "       1000,    0, -250, 1900, 3600, 2300,  850, 2800, 3100, 1650, 1750,\n",
       "       1900, 3050, 2650, -150,  450, -150, 3800, 3500,  700,  700, 3650,\n",
       "       -200, 2450,  750, 2050, 1000,  550,  100, 3850, 3050,  300,  350,\n",
       "       3900, -250,  600, 2900, 3600, -350,  -50,  100, 3200, 2750, 3600,\n",
       "       -250,   50, 1500, -450, 2950,  600,  850, 3400, 4000, 3600, 1400,\n",
       "       -550, -600, 2750, 3600, 3600, 1700, 1900,  900,  -50, 3050, 3600,\n",
       "        -50, -500, 3450,  300, -250, -200, 3800, 4000, 2300, 2050, 3150,\n",
       "       1300, 2050, 4050, 1700, 1450, 1200, 3650, 2850, 1050, -800,  100,\n",
       "        350, -650,  650,    0, 3400, 3300, -100, 1750, 3150,   50, 1700,\n",
       "       1850,  450, 1600,   50,  800, 3250, 3200, 1250, 3700, -200,  700,\n",
       "       3250,   50,    0, -800,  750, 2850, 2400, 1100,  300, 4000, 2500,\n",
       "       2550, 2300, 3950, 4150,  550, 3300, 2300, 3050, 1600, 3850, 2950,\n",
       "       3500, 1050, -250,  250,  850, 3950, 1350, 3600, 4000, 2850, 1200,\n",
       "       1350, 3700])"
      ]
     },
     "execution_count": 28,
     "metadata": {},
     "output_type": "execute_result"
    }
   ],
   "source": [
    "OI2"
   ]
  },
  {
   "cell_type": "code",
   "execution_count": 29,
   "id": "e9a3b0ce",
   "metadata": {},
   "outputs": [
    {
     "data": {
      "text/plain": [
       "array([ 270,  450, 1920,  840, 2670, 2790,  870,  240, 2190,    0, 1200,\n",
       "       1080,  480,  330, 1620, 2640, 1860,  990, 2160, 2340, 1470, 1530,\n",
       "       1620, 2310, 2070,  390,  750,  390, 2760, 2580,  900,  900, 2670,\n",
       "        360, 1950,  930, 1710, 1080,  810,  540, 2790, 2310,  660,  690,\n",
       "       2820,  330,  840, 2220, 2640,  270,  450,  540, 2400, 2130, 2640,\n",
       "        330,  510, 1380,  210, 2250,  840,  990, 2520, 2880, 2640, 1320,\n",
       "        150,  120, 2130, 2640, 2640, 1500, 1620, 1020,  450, 2310, 2640,\n",
       "        450,  180, 2550,  660,  330,  360, 2760, 2880, 1860, 1710, 2370,\n",
       "       1260, 1710, 2910, 1500, 1350, 1200, 2670, 2190, 1110,    0,  540,\n",
       "        690,   90,  870,  480, 2520, 2460,  420, 1530, 2370,  510, 1500,\n",
       "       1590,  750, 1440,  510,  960, 2430, 2400, 1230, 2700,  360,  900,\n",
       "       2430,  510,  480,    0,  930, 2190, 1920, 1140,  660, 2880, 1980,\n",
       "       2010, 1860, 2850, 2970,  810, 2460, 1860, 2310, 1440, 2790, 2250,\n",
       "       2580, 1110,  330,  630,  990, 2850, 1290, 2640, 2880, 2190, 1200,\n",
       "       1290, 2700])"
      ]
     },
     "execution_count": 29,
     "metadata": {},
     "output_type": "execute_result"
    }
   ],
   "source": [
    "OI3"
   ]
  },
  {
   "cell_type": "code",
   "execution_count": 30,
   "id": "6621bc7a",
   "metadata": {},
   "outputs": [
    {
     "data": {
      "text/plain": [
       "pandas.core.frame.DataFrame"
      ]
     },
     "execution_count": 30,
     "metadata": {},
     "output_type": "execute_result"
    }
   ],
   "source": [
    "type(OI_data)"
   ]
  },
  {
   "cell_type": "code",
   "execution_count": 32,
   "id": "38015b0b",
   "metadata": {},
   "outputs": [
    {
     "data": {
      "text/html": [
       "<div>\n",
       "<style scoped>\n",
       "    .dataframe tbody tr th:only-of-type {\n",
       "        vertical-align: middle;\n",
       "    }\n",
       "\n",
       "    .dataframe tbody tr th {\n",
       "        vertical-align: top;\n",
       "    }\n",
       "\n",
       "    .dataframe thead th {\n",
       "        text-align: right;\n",
       "    }\n",
       "</style>\n",
       "<table border=\"1\" class=\"dataframe\">\n",
       "  <thead>\n",
       "    <tr style=\"text-align: right;\">\n",
       "      <th></th>\n",
       "      <th>volume</th>\n",
       "      <th>OI1</th>\n",
       "      <th>OI2</th>\n",
       "      <th>OI3</th>\n",
       "    </tr>\n",
       "  </thead>\n",
       "  <tbody>\n",
       "    <tr>\n",
       "      <th>0</th>\n",
       "      <td>9</td>\n",
       "      <td>-1280</td>\n",
       "      <td>-350</td>\n",
       "      <td>270</td>\n",
       "    </tr>\n",
       "    <tr>\n",
       "      <th>1</th>\n",
       "      <td>15</td>\n",
       "      <td>-800</td>\n",
       "      <td>-50</td>\n",
       "      <td>450</td>\n",
       "    </tr>\n",
       "    <tr>\n",
       "      <th>2</th>\n",
       "      <td>64</td>\n",
       "      <td>3120</td>\n",
       "      <td>2400</td>\n",
       "      <td>1920</td>\n",
       "    </tr>\n",
       "    <tr>\n",
       "      <th>3</th>\n",
       "      <td>28</td>\n",
       "      <td>240</td>\n",
       "      <td>600</td>\n",
       "      <td>840</td>\n",
       "    </tr>\n",
       "    <tr>\n",
       "      <th>4</th>\n",
       "      <td>89</td>\n",
       "      <td>5120</td>\n",
       "      <td>3650</td>\n",
       "      <td>2670</td>\n",
       "    </tr>\n",
       "  </tbody>\n",
       "</table>\n",
       "</div>"
      ],
      "text/plain": [
       "   volume   OI1   OI2   OI3\n",
       "0       9 -1280  -350   270\n",
       "1      15  -800   -50   450\n",
       "2      64  3120  2400  1920\n",
       "3      28   240   600   840\n",
       "4      89  5120  3650  2670"
      ]
     },
     "execution_count": 32,
     "metadata": {},
     "output_type": "execute_result"
    }
   ],
   "source": [
    "OI_data.head()"
   ]
  },
  {
   "cell_type": "code",
   "execution_count": 33,
   "id": "d4ed63d6",
   "metadata": {},
   "outputs": [
    {
     "data": {
      "text/html": [
       "<div>\n",
       "<style scoped>\n",
       "    .dataframe tbody tr th:only-of-type {\n",
       "        vertical-align: middle;\n",
       "    }\n",
       "\n",
       "    .dataframe tbody tr th {\n",
       "        vertical-align: top;\n",
       "    }\n",
       "\n",
       "    .dataframe thead th {\n",
       "        text-align: right;\n",
       "    }\n",
       "</style>\n",
       "<table border=\"1\" class=\"dataframe\">\n",
       "  <thead>\n",
       "    <tr style=\"text-align: right;\">\n",
       "      <th></th>\n",
       "      <th>volume</th>\n",
       "      <th>OI1</th>\n",
       "      <th>OI2</th>\n",
       "      <th>OI3</th>\n",
       "    </tr>\n",
       "  </thead>\n",
       "  <tbody>\n",
       "    <tr>\n",
       "      <th>151</th>\n",
       "      <td>96</td>\n",
       "      <td>5680</td>\n",
       "      <td>4000</td>\n",
       "      <td>2880</td>\n",
       "    </tr>\n",
       "    <tr>\n",
       "      <th>152</th>\n",
       "      <td>73</td>\n",
       "      <td>3840</td>\n",
       "      <td>2850</td>\n",
       "      <td>2190</td>\n",
       "    </tr>\n",
       "    <tr>\n",
       "      <th>153</th>\n",
       "      <td>40</td>\n",
       "      <td>1200</td>\n",
       "      <td>1200</td>\n",
       "      <td>1200</td>\n",
       "    </tr>\n",
       "    <tr>\n",
       "      <th>154</th>\n",
       "      <td>43</td>\n",
       "      <td>1440</td>\n",
       "      <td>1350</td>\n",
       "      <td>1290</td>\n",
       "    </tr>\n",
       "    <tr>\n",
       "      <th>155</th>\n",
       "      <td>90</td>\n",
       "      <td>5200</td>\n",
       "      <td>3700</td>\n",
       "      <td>2700</td>\n",
       "    </tr>\n",
       "  </tbody>\n",
       "</table>\n",
       "</div>"
      ],
      "text/plain": [
       "     volume   OI1   OI2   OI3\n",
       "151      96  5680  4000  2880\n",
       "152      73  3840  2850  2190\n",
       "153      40  1200  1200  1200\n",
       "154      43  1440  1350  1290\n",
       "155      90  5200  3700  2700"
      ]
     },
     "execution_count": 33,
     "metadata": {},
     "output_type": "execute_result"
    }
   ],
   "source": [
    "OI_data.tail()"
   ]
  },
  {
   "cell_type": "code",
   "execution_count": 34,
   "id": "6e055ef6",
   "metadata": {},
   "outputs": [
    {
     "data": {
      "text/html": [
       "<div>\n",
       "<style scoped>\n",
       "    .dataframe tbody tr th:only-of-type {\n",
       "        vertical-align: middle;\n",
       "    }\n",
       "\n",
       "    .dataframe tbody tr th {\n",
       "        vertical-align: top;\n",
       "    }\n",
       "\n",
       "    .dataframe thead th {\n",
       "        text-align: right;\n",
       "    }\n",
       "</style>\n",
       "<table border=\"1\" class=\"dataframe\">\n",
       "  <thead>\n",
       "    <tr style=\"text-align: right;\">\n",
       "      <th></th>\n",
       "      <th>volume</th>\n",
       "      <th>OI1</th>\n",
       "      <th>OI2</th>\n",
       "      <th>OI3</th>\n",
       "    </tr>\n",
       "  </thead>\n",
       "  <tbody>\n",
       "    <tr>\n",
       "      <th>count</th>\n",
       "      <td>156.000000</td>\n",
       "      <td>156.000000</td>\n",
       "      <td>156.000000</td>\n",
       "      <td>156.000000</td>\n",
       "    </tr>\n",
       "    <tr>\n",
       "      <th>mean</th>\n",
       "      <td>50.032051</td>\n",
       "      <td>2002.564103</td>\n",
       "      <td>1701.602564</td>\n",
       "      <td>1500.961538</td>\n",
       "    </tr>\n",
       "    <tr>\n",
       "      <th>std</th>\n",
       "      <td>30.164799</td>\n",
       "      <td>2413.183915</td>\n",
       "      <td>1508.239947</td>\n",
       "      <td>904.943968</td>\n",
       "    </tr>\n",
       "    <tr>\n",
       "      <th>min</th>\n",
       "      <td>0.000000</td>\n",
       "      <td>-2000.000000</td>\n",
       "      <td>-800.000000</td>\n",
       "      <td>0.000000</td>\n",
       "    </tr>\n",
       "    <tr>\n",
       "      <th>25%</th>\n",
       "      <td>22.000000</td>\n",
       "      <td>-240.000000</td>\n",
       "      <td>300.000000</td>\n",
       "      <td>660.000000</td>\n",
       "    </tr>\n",
       "    <tr>\n",
       "      <th>50%</th>\n",
       "      <td>48.500000</td>\n",
       "      <td>1880.000000</td>\n",
       "      <td>1625.000000</td>\n",
       "      <td>1455.000000</td>\n",
       "    </tr>\n",
       "    <tr>\n",
       "      <th>75%</th>\n",
       "      <td>79.000000</td>\n",
       "      <td>4320.000000</td>\n",
       "      <td>3150.000000</td>\n",
       "      <td>2370.000000</td>\n",
       "    </tr>\n",
       "    <tr>\n",
       "      <th>max</th>\n",
       "      <td>99.000000</td>\n",
       "      <td>5920.000000</td>\n",
       "      <td>4150.000000</td>\n",
       "      <td>2970.000000</td>\n",
       "    </tr>\n",
       "  </tbody>\n",
       "</table>\n",
       "</div>"
      ],
      "text/plain": [
       "           volume          OI1          OI2          OI3\n",
       "count  156.000000   156.000000   156.000000   156.000000\n",
       "mean    50.032051  2002.564103  1701.602564  1500.961538\n",
       "std     30.164799  2413.183915  1508.239947   904.943968\n",
       "min      0.000000 -2000.000000  -800.000000     0.000000\n",
       "25%     22.000000  -240.000000   300.000000   660.000000\n",
       "50%     48.500000  1880.000000  1625.000000  1455.000000\n",
       "75%     79.000000  4320.000000  3150.000000  2370.000000\n",
       "max     99.000000  5920.000000  4150.000000  2970.000000"
      ]
     },
     "execution_count": 34,
     "metadata": {},
     "output_type": "execute_result"
    }
   ],
   "source": [
    "OI_data.describe()"
   ]
  },
  {
   "cell_type": "code",
   "execution_count": 38,
   "id": "5eb97e80",
   "metadata": {},
   "outputs": [
    {
     "data": {
      "text/plain": [
       "[42, 26, 0]"
      ]
     },
     "execution_count": 38,
     "metadata": {},
     "output_type": "execute_result"
    }
   ],
   "source": [
    "loss = [\n",
    "    len(OI_data[OI_data['OI1']<0]),\n",
    "    len(OI_data[OI_data['OI2']<0]),\n",
    "    len(OI_data[OI_data['OI3']<0])\n",
    "       ]\n",
    "loss"
   ]
  },
  {
   "cell_type": "code",
   "execution_count": 39,
   "id": "4c18cbeb",
   "metadata": {},
   "outputs": [],
   "source": [
    "prLoss = [x/obs for x in loss]"
   ]
  },
  {
   "cell_type": "code",
   "execution_count": 40,
   "id": "0d8dcc8d",
   "metadata": {},
   "outputs": [
    {
     "data": {
      "text/plain": [
       "[0.2692307692307692, 0.16666666666666666, 0.0]"
      ]
     },
     "execution_count": 40,
     "metadata": {},
     "output_type": "execute_result"
    }
   ],
   "source": [
    "prLoss"
   ]
  },
  {
   "cell_type": "code",
   "execution_count": 41,
   "id": "1bc80558",
   "metadata": {},
   "outputs": [
    {
     "data": {
      "image/png": "[encoded data removed]",
      "text/plain": [
       "<Figure size 432x288 with 1 Axes>"
      ]
     },
     "metadata": {
      "needs_background": "light"
     },
     "output_type": "display_data"
    }
   ],
   "source": [
    "ax = OI_data.plot(kind=\"scatter\", x=\"volume\",y=\"OI1\", color=\"b\", label=\"Option 1\")\n",
    "OI_data.plot(kind=\"scatter\", x=\"volume\",y=\"OI2\", color=\"r\", label=\"Option 2\", ax=ax)\n",
    "OI_data.plot(kind=\"scatter\", x=\"volume\",y=\"OI3\", color=\"g\", label=\"Option 3\", ax=ax)\n",
    "\n",
    "ax.set_xlabel(\"Units Sold\")\n",
    "ax.set_ylabel(\"Operating Income\")\n",
    "plt.show()"
   ]
  },
  {
   "cell_type": "code",
   "execution_count": 42,
   "id": "66fe691e",
   "metadata": {},
   "outputs": [
    {
     "data": {
      "text/plain": [
       "<AxesSubplot:ylabel='Frequency'>"
      ]
     },
     "execution_count": 42,
     "metadata": {},
     "output_type": "execute_result"
    },
    {
     "data": {
      "image/png": "[encoded data removed]",
      "text/plain": [
       "<Figure size 432x288 with 1 Axes>"
      ]
     },
     "metadata": {
      "needs_background": "light"
     },
     "output_type": "display_data"
    }
   ],
   "source": [
    "OI_data[['OI1','OI2','OI3']].plot(kind='hist', bins=50)"
   ]
  },
  {
   "cell_type": "code",
   "execution_count": null,
   "id": "49ec4b56",
   "metadata": {},
   "outputs": [],
   "source": []
  }
 ],
 "metadata": {
  "kernelspec": {
   "display_name": "Python 3",
   "language": "python",
   "name": "python3"
  },
  "language_info": {
   "codemirror_mode": {
    "name": "ipython",
    "version": 3
   },
   "file_extension": ".py",
   "mimetype": "text/x-python",
   "name": "python",
   "nbconvert_exporter": "python",
   "pygments_lexer": "ipython3",
   "version": "3.7.11"
  }
 },
 "nbformat": 4,
 "nbformat_minor": 5
}
