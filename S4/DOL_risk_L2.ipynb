{
 "cells": [
  {
   "cell_type": "markdown",
   "id": "07db05d0",
   "metadata": {},
   "source": [
    "# A quick example of the risk-reward trade off that DOL captures.\n",
    "\n",
    "First a couple of set up things:\n"
   ]
  },
  {
   "cell_type": "code",
   "execution_count": 7,
   "id": "9c25cc69",
   "metadata": {},
   "outputs": [
    {
     "data": {
      "text/html": [
       "<style>.container { width:100% !important; }</style>"
      ],
      "text/plain": [
       "<IPython.core.display.HTML object>"
      ]
     },
     "metadata": {},
     "output_type": "display_data"
    }
   ],
   "source": [
    "# these are just to tell python what parts of it we want to use:\n",
    "import numpy as np\n",
    "import pandas as pd\n",
    "import statsmodels.api as sm\n",
    "import matplotlib.pyplot as plt\n",
    "# and this sets the width of the window\n",
    "from IPython.core.display import display, HTML\n",
    "display(HTML(\"<style>.container { width:100% !important; }</style>\"))"
   ]
  },
  {
   "cell_type": "markdown",
   "id": "bed1ca54",
   "metadata": {},
   "source": [
    "# Now lets collect some data:\n",
    "\n",
    "1. What data do we need?\n",
    "    - __SALES VOLUME DATA__\n",
    "2. Where could we get this data from?\n",
    "    - Emma's records\n",
    "    - Ask others\n",
    "    - Ask the vendor "
   ]
  },
  {
   "cell_type": "code",
   "execution_count": 8,
   "id": "92442ee5",
   "metadata": {},
   "outputs": [],
   "source": [
    "np.random.seed(10)\n",
    "size=52*3 # three years of data"
   ]
  },
  {
   "cell_type": "code",
   "execution_count": 9,
   "id": "67230860",
   "metadata": {},
   "outputs": [
    {
     "data": {
      "image/png": "[encoded data removed]",
      "text/plain": [
       "<Figure size 432x288 with 1 Axes>"
      ]
     },
     "metadata": {
      "needs_background": "light"
     },
     "output_type": "display_data"
    }
   ],
   "source": [
    "# sales volume \n",
    "rel_range = range(0,100)\n",
    "volume = np.random.choice(rel_range, size=size) \n",
    "p=plt.hist(volume, bins = len(rel_range))"
   ]
  },
  {
   "cell_type": "code",
   "execution_count": null,
   "id": "64a48ced",
   "metadata": {},
   "outputs": [],
   "source": []
  },
  {
   "cell_type": "code",
   "execution_count": 10,
   "id": "26d2ee51",
   "metadata": {},
   "outputs": [
    {
     "data": {
      "text/plain": [
       "array([ 1800,  3000, 12800,  5600, 17800, 18600,  5800,  1600, 14600,\n",
       "           0,  8000,  7200,  3200,  2200, 10800, 17600, 12400,  6600,\n",
       "       14400, 15600,  9800, 10200, 10800, 15400, 13800,  2600,  5000,\n",
       "        2600, 18400, 17200,  6000,  6000, 17800,  2400, 13000,  6200,\n",
       "       11400,  7200,  5400,  3600, 18600, 15400,  4400,  4600, 18800,\n",
       "        2200,  5600, 14800, 17600,  1800,  3000,  3600, 16000, 14200,\n",
       "       17600,  2200,  3400,  9200,  1400, 15000,  5600,  6600, 16800,\n",
       "       19200, 17600,  8800,  1000,   800, 14200, 17600, 17600, 10000,\n",
       "       10800,  6800,  3000, 15400, 17600,  3000,  1200, 17000,  4400,\n",
       "        2200,  2400, 18400, 19200, 12400, 11400, 15800,  8400, 11400,\n",
       "       19400, 10000,  9000,  8000, 17800, 14600,  7400,     0,  3600,\n",
       "        4600,   600,  5800,  3200, 16800, 16400,  2800, 10200, 15800,\n",
       "        3400, 10000, 10600,  5000,  9600,  3400,  6400, 16200, 16000,\n",
       "        8200, 18000,  2400,  6000, 16200,  3400,  3200,     0,  6200,\n",
       "       14600, 12800,  7600,  4400, 19200, 13200, 13400, 12400, 19000,\n",
       "       19800,  5400, 16400, 12400, 15400,  9600, 18600, 15000, 17200,\n",
       "        7400,  2200,  4200,  6600, 19000,  8600, 17600, 19200, 14600,\n",
       "        8000,  8600, 18000])"
      ]
     },
     "execution_count": 10,
     "metadata": {},
     "output_type": "execute_result"
    }
   ],
   "source": [
    "# revenue\n",
    "R_u = 200\n",
    "R = volume * R_u\n",
    "R"
   ]
  },
  {
   "cell_type": "code",
   "execution_count": 11,
   "id": "9a3de972",
   "metadata": {},
   "outputs": [],
   "source": [
    "# contribution margin\n",
    "CM_u = [80,50,30]"
   ]
  },
  {
   "cell_type": "code",
   "execution_count": 13,
   "id": "3edfe270",
   "metadata": {},
   "outputs": [],
   "source": [
    "CM1 = volume * CM_u[0]\n",
    "CM2 = volume * CM_u[1]\n",
    "CM3 = volume * CM_u[2]"
   ]
  },
  {
   "cell_type": "code",
   "execution_count": 16,
   "id": "31de1f0c",
   "metadata": {},
   "outputs": [],
   "source": [
    "# FC & OI\n",
    "FC = [2000,800,0]"
   ]
  },
  {
   "cell_type": "code",
   "execution_count": 17,
   "id": "a114e64b",
   "metadata": {},
   "outputs": [],
   "source": [
    "OI1 = CM1 - FC[0]\n",
    "OI2 = CM2 - FC[1]\n",
    "OI3 = CM3 - FC[2]"
   ]
  },
  {
   "cell_type": "code",
   "execution_count": 18,
   "id": "34946a77",
   "metadata": {},
   "outputs": [],
   "source": [
    "# put the volumes and oi's into a frame\n",
    "col_dict =  {\n",
    "            \"volume\":volume, \n",
    "            \"OI1\":OI1,\n",
    "            \"OI2\":OI2,\n",
    "            \"OI3\":OI3,\n",
    "            }"
   ]
  },
  {
   "cell_type": "code",
   "execution_count": 19,
   "id": "28942fe1",
   "metadata": {},
   "outputs": [],
   "source": [
    "OI_data = pd.DataFrame(col_dict, columns=list(col_dict.keys()))"
   ]
  },
  {
   "cell_type": "code",
   "execution_count": 20,
   "id": "b98371c8",
   "metadata": {},
   "outputs": [
    {
     "data": {
      "text/plain": [
       "array([-1280,  -800,  3120,   240,  5120,  5440,   320, -1360,  3840,\n",
       "       -2000,  1200,   880,  -720, -1120,  2320,  5040,  2960,   640,\n",
       "        3760,  4240,  1920,  2080,  2320,  4160,  3520,  -960,     0,\n",
       "        -960,  5360,  4880,   400,   400,  5120, -1040,  3200,   480,\n",
       "        2560,   880,   160,  -560,  5440,  4160,  -240,  -160,  5520,\n",
       "       -1120,   240,  3920,  5040, -1280,  -800,  -560,  4400,  3680,\n",
       "        5040, -1120,  -640,  1680, -1440,  4000,   240,   640,  4720,\n",
       "        5680,  5040,  1520, -1600, -1680,  3680,  5040,  5040,  2000,\n",
       "        2320,   720,  -800,  4160,  5040,  -800, -1520,  4800,  -240,\n",
       "       -1120, -1040,  5360,  5680,  2960,  2560,  4320,  1360,  2560,\n",
       "        5760,  2000,  1600,  1200,  5120,  3840,   960, -2000,  -560,\n",
       "        -160, -1760,   320,  -720,  4720,  4560,  -880,  2080,  4320,\n",
       "        -640,  2000,  2240,     0,  1840,  -640,   560,  4480,  4400,\n",
       "        1280,  5200, -1040,   400,  4480,  -640,  -720, -2000,   480,\n",
       "        3840,  3120,  1040,  -240,  5680,  3280,  3360,  2960,  5600,\n",
       "        5920,   160,  4560,  2960,  4160,  1840,  5440,  4000,  4880,\n",
       "         960, -1120,  -320,   640,  5600,  1440,  5040,  5680,  3840,\n",
       "        1200,  1440,  5200])"
      ]
     },
     "execution_count": 20,
     "metadata": {},
     "output_type": "execute_result"
    }
   ],
   "source": [
    "OI1"
   ]
  },
  {
   "cell_type": "code",
   "execution_count": 21,
   "id": "4fda3885",
   "metadata": {},
   "outputs": [
    {
     "data": {
      "text/html": [
       "<div>\n",
       "<style scoped>\n",
       "    .dataframe tbody tr th:only-of-type {\n",
       "        vertical-align: middle;\n",
       "    }\n",
       "\n",
       "    .dataframe tbody tr th {\n",
       "        vertical-align: top;\n",
       "    }\n",
       "\n",
       "    .dataframe thead th {\n",
       "        text-align: right;\n",
       "    }\n",
       "</style>\n",
       "<table border=\"1\" class=\"dataframe\">\n",
       "  <thead>\n",
       "    <tr style=\"text-align: right;\">\n",
       "      <th></th>\n",
       "      <th>volume</th>\n",
       "      <th>OI1</th>\n",
       "      <th>OI2</th>\n",
       "      <th>OI3</th>\n",
       "    </tr>\n",
       "  </thead>\n",
       "  <tbody>\n",
       "    <tr>\n",
       "      <th>0</th>\n",
       "      <td>9</td>\n",
       "      <td>-1280</td>\n",
       "      <td>-350</td>\n",
       "      <td>270</td>\n",
       "    </tr>\n",
       "    <tr>\n",
       "      <th>1</th>\n",
       "      <td>15</td>\n",
       "      <td>-800</td>\n",
       "      <td>-50</td>\n",
       "      <td>450</td>\n",
       "    </tr>\n",
       "    <tr>\n",
       "      <th>2</th>\n",
       "      <td>64</td>\n",
       "      <td>3120</td>\n",
       "      <td>2400</td>\n",
       "      <td>1920</td>\n",
       "    </tr>\n",
       "    <tr>\n",
       "      <th>3</th>\n",
       "      <td>28</td>\n",
       "      <td>240</td>\n",
       "      <td>600</td>\n",
       "      <td>840</td>\n",
       "    </tr>\n",
       "    <tr>\n",
       "      <th>4</th>\n",
       "      <td>89</td>\n",
       "      <td>5120</td>\n",
       "      <td>3650</td>\n",
       "      <td>2670</td>\n",
       "    </tr>\n",
       "    <tr>\n",
       "      <th>...</th>\n",
       "      <td>...</td>\n",
       "      <td>...</td>\n",
       "      <td>...</td>\n",
       "      <td>...</td>\n",
       "    </tr>\n",
       "    <tr>\n",
       "      <th>151</th>\n",
       "      <td>96</td>\n",
       "      <td>5680</td>\n",
       "      <td>4000</td>\n",
       "      <td>2880</td>\n",
       "    </tr>\n",
       "    <tr>\n",
       "      <th>152</th>\n",
       "      <td>73</td>\n",
       "      <td>3840</td>\n",
       "      <td>2850</td>\n",
       "      <td>2190</td>\n",
       "    </tr>\n",
       "    <tr>\n",
       "      <th>153</th>\n",
       "      <td>40</td>\n",
       "      <td>1200</td>\n",
       "      <td>1200</td>\n",
       "      <td>1200</td>\n",
       "    </tr>\n",
       "    <tr>\n",
       "      <th>154</th>\n",
       "      <td>43</td>\n",
       "      <td>1440</td>\n",
       "      <td>1350</td>\n",
       "      <td>1290</td>\n",
       "    </tr>\n",
       "    <tr>\n",
       "      <th>155</th>\n",
       "      <td>90</td>\n",
       "      <td>5200</td>\n",
       "      <td>3700</td>\n",
       "      <td>2700</td>\n",
       "    </tr>\n",
       "  </tbody>\n",
       "</table>\n",
       "<p>156 rows × 4 columns</p>\n",
       "</div>"
      ],
      "text/plain": [
       "     volume   OI1   OI2   OI3\n",
       "0         9 -1280  -350   270\n",
       "1        15  -800   -50   450\n",
       "2        64  3120  2400  1920\n",
       "3        28   240   600   840\n",
       "4        89  5120  3650  2670\n",
       "..      ...   ...   ...   ...\n",
       "151      96  5680  4000  2880\n",
       "152      73  3840  2850  2190\n",
       "153      40  1200  1200  1200\n",
       "154      43  1440  1350  1290\n",
       "155      90  5200  3700  2700\n",
       "\n",
       "[156 rows x 4 columns]"
      ]
     },
     "execution_count": 21,
     "metadata": {},
     "output_type": "execute_result"
    }
   ],
   "source": [
    "OI_data"
   ]
  },
  {
   "cell_type": "code",
   "execution_count": 22,
   "id": "c0f14dd9",
   "metadata": {},
   "outputs": [
    {
     "data": {
      "text/html": [
       "<div>\n",
       "<style scoped>\n",
       "    .dataframe tbody tr th:only-of-type {\n",
       "        vertical-align: middle;\n",
       "    }\n",
       "\n",
       "    .dataframe tbody tr th {\n",
       "        vertical-align: top;\n",
       "    }\n",
       "\n",
       "    .dataframe thead th {\n",
       "        text-align: right;\n",
       "    }\n",
       "</style>\n",
       "<table border=\"1\" class=\"dataframe\">\n",
       "  <thead>\n",
       "    <tr style=\"text-align: right;\">\n",
       "      <th></th>\n",
       "      <th>volume</th>\n",
       "      <th>OI1</th>\n",
       "      <th>OI2</th>\n",
       "      <th>OI3</th>\n",
       "    </tr>\n",
       "  </thead>\n",
       "  <tbody>\n",
       "    <tr>\n",
       "      <th>count</th>\n",
       "      <td>156.000000</td>\n",
       "      <td>156.000000</td>\n",
       "      <td>156.000000</td>\n",
       "      <td>156.000000</td>\n",
       "    </tr>\n",
       "    <tr>\n",
       "      <th>mean</th>\n",
       "      <td>50.032051</td>\n",
       "      <td>2002.564103</td>\n",
       "      <td>1701.602564</td>\n",
       "      <td>1500.961538</td>\n",
       "    </tr>\n",
       "    <tr>\n",
       "      <th>std</th>\n",
       "      <td>30.164799</td>\n",
       "      <td>2413.183915</td>\n",
       "      <td>1508.239947</td>\n",
       "      <td>904.943968</td>\n",
       "    </tr>\n",
       "    <tr>\n",
       "      <th>min</th>\n",
       "      <td>0.000000</td>\n",
       "      <td>-2000.000000</td>\n",
       "      <td>-800.000000</td>\n",
       "      <td>0.000000</td>\n",
       "    </tr>\n",
       "    <tr>\n",
       "      <th>25%</th>\n",
       "      <td>22.000000</td>\n",
       "      <td>-240.000000</td>\n",
       "      <td>300.000000</td>\n",
       "      <td>660.000000</td>\n",
       "    </tr>\n",
       "    <tr>\n",
       "      <th>50%</th>\n",
       "      <td>48.500000</td>\n",
       "      <td>1880.000000</td>\n",
       "      <td>1625.000000</td>\n",
       "      <td>1455.000000</td>\n",
       "    </tr>\n",
       "    <tr>\n",
       "      <th>75%</th>\n",
       "      <td>79.000000</td>\n",
       "      <td>4320.000000</td>\n",
       "      <td>3150.000000</td>\n",
       "      <td>2370.000000</td>\n",
       "    </tr>\n",
       "    <tr>\n",
       "      <th>max</th>\n",
       "      <td>99.000000</td>\n",
       "      <td>5920.000000</td>\n",
       "      <td>4150.000000</td>\n",
       "      <td>2970.000000</td>\n",
       "    </tr>\n",
       "  </tbody>\n",
       "</table>\n",
       "</div>"
      ],
      "text/plain": [
       "           volume          OI1          OI2          OI3\n",
       "count  156.000000   156.000000   156.000000   156.000000\n",
       "mean    50.032051  2002.564103  1701.602564  1500.961538\n",
       "std     30.164799  2413.183915  1508.239947   904.943968\n",
       "min      0.000000 -2000.000000  -800.000000     0.000000\n",
       "25%     22.000000  -240.000000   300.000000   660.000000\n",
       "50%     48.500000  1880.000000  1625.000000  1455.000000\n",
       "75%     79.000000  4320.000000  3150.000000  2370.000000\n",
       "max     99.000000  5920.000000  4150.000000  2970.000000"
      ]
     },
     "execution_count": 22,
     "metadata": {},
     "output_type": "execute_result"
    }
   ],
   "source": [
    "OI_data.describe()"
   ]
  },
  {
   "cell_type": "code",
   "execution_count": 25,
   "id": "316e0ee5",
   "metadata": {},
   "outputs": [
    {
     "data": {
      "text/plain": [
       "[42, 26, 0]"
      ]
     },
     "execution_count": 25,
     "metadata": {},
     "output_type": "execute_result"
    }
   ],
   "source": [
    "loss=[\n",
    "    len(OI_data[OI_data['OI1']<0]),\n",
    "    len(OI_data[OI_data['OI2']<0]),\n",
    "    len(OI_data[OI_data['OI3']<0])\n",
    "]\n",
    "loss"
   ]
  },
  {
   "cell_type": "code",
   "execution_count": 26,
   "id": "94adc6f3",
   "metadata": {},
   "outputs": [
    {
     "data": {
      "text/plain": [
       "[0.2692307692307692, 0.16666666666666666, 0.0]"
      ]
     },
     "execution_count": 26,
     "metadata": {},
     "output_type": "execute_result"
    }
   ],
   "source": [
    "prLoss = [x/size for x in loss]\n",
    "prLoss"
   ]
  },
  {
   "cell_type": "markdown",
   "id": "6bb260e9",
   "metadata": {},
   "source": [
    "# Now lets plot the data:"
   ]
  },
  {
   "cell_type": "code",
   "execution_count": 27,
   "id": "459c91a9",
   "metadata": {},
   "outputs": [
    {
     "data": {
      "image/png": "[encoded data removed]",
      "text/plain": [
       "<Figure size 432x288 with 1 Axes>"
      ]
     },
     "metadata": {
      "needs_background": "light"
     },
     "output_type": "display_data"
    }
   ],
   "source": [
    "ax = OI_data.plot(kind=\"scatter\", x=\"volume\",y=\"OI1\", color=\"b\", label=\"Option 1\")\n",
    "OI_data.plot(kind=\"scatter\", x=\"volume\",y=\"OI2\", color=\"r\", label=\"Option 2\", ax=ax)\n",
    "OI_data.plot(kind=\"scatter\", x=\"volume\",y=\"OI3\", color=\"g\", label=\"Option 3\", ax=ax)\n",
    "\n",
    "ax.set_xlabel(\"Units Sold\")\n",
    "ax.set_ylabel(\"Operating Income\")\n",
    "plt.show()"
   ]
  },
  {
   "cell_type": "code",
   "execution_count": null,
   "id": "a8d0c746",
   "metadata": {},
   "outputs": [],
   "source": []
  }
 ],
 "metadata": {
  "kernelspec": {
   "display_name": "Python 3",
   "language": "python",
   "name": "python3"
  },
  "language_info": {
   "codemirror_mode": {
    "name": "ipython",
    "version": 3
   },
   "file_extension": ".py",
   "mimetype": "text/x-python",
   "name": "python",
   "nbconvert_exporter": "python",
   "pygments_lexer": "ipython3",
   "version": "3.7.11"
  }
 },
 "nbformat": 4,
 "nbformat_minor": 5
}
