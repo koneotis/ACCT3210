{
 "cells": [
  {
   "cell_type": "markdown",
   "id": "2222eccb",
   "metadata": {},
   "source": [
    "# A quick example of the risk-reward trade off that DOL captures.\n",
    "\n",
    "First a couple of set up things:\n"
   ]
  },
  {
   "cell_type": "code",
   "execution_count": 1,
   "id": "ff6ce7e7",
   "metadata": {},
   "outputs": [
    {
     "data": {
      "text/html": [
       "<style>.container { width:100% !important; }</style>"
      ],
      "text/plain": [
       "<IPython.core.display.HTML object>"
      ]
     },
     "metadata": {},
     "output_type": "display_data"
    }
   ],
   "source": [
    "# these are just to tell python what parts of it we want to use:\n",
    "import numpy as np\n",
    "import pandas as pd\n",
    "import statsmodels.api as sm\n",
    "import matplotlib.pyplot as plt\n",
    "# and this sets the width of the window\n",
    "from IPython.core.display import display, HTML\n",
    "display(HTML(\"<style>.container { width:100% !important; }</style>\"))"
   ]
  },
  {
   "cell_type": "markdown",
   "id": "2f265c7d",
   "metadata": {},
   "source": [
    "# Now lets collect some data:\n",
    "1. What data do we need?\n",
    "    - __SALES DATA__\n",
    "2. Where could we get this data from?\n",
    "    - Emma's records\n",
    "    - Ask the vendor\n",
    "    - other renters\n",
    "    - simulate data ourselves"
   ]
  },
  {
   "cell_type": "code",
   "execution_count": 2,
   "id": "2acdd456",
   "metadata": {},
   "outputs": [],
   "source": [
    "np.random.seed(10)"
   ]
  },
  {
   "cell_type": "code",
   "execution_count": 3,
   "id": "7263da08",
   "metadata": {},
   "outputs": [],
   "source": [
    "size=52*3 # three years of weekly data "
   ]
  },
  {
   "cell_type": "code",
   "execution_count": 5,
   "id": "033744be",
   "metadata": {},
   "outputs": [],
   "source": [
    "rel_range = range(0,100)"
   ]
  },
  {
   "cell_type": "code",
   "execution_count": 10,
   "id": "4ee4532b",
   "metadata": {},
   "outputs": [],
   "source": [
    "volume = np.random.choice(rel_range, size=size)"
   ]
  },
  {
   "cell_type": "code",
   "execution_count": 12,
   "id": "0f29defa",
   "metadata": {},
   "outputs": [
    {
     "data": {
      "image/png": "[encoded data removed]",
      "text/plain": [
       "<Figure size 432x288 with 1 Axes>"
      ]
     },
     "metadata": {
      "needs_background": "light"
     },
     "output_type": "display_data"
    }
   ],
   "source": [
    "p=plt.hist(volume, bins = len(rel_range))"
   ]
  },
  {
   "cell_type": "code",
   "execution_count": 15,
   "id": "8305001c",
   "metadata": {},
   "outputs": [],
   "source": [
    "# revenue\n",
    "R_u = 200\n",
    "R = volume * R_u"
   ]
  },
  {
   "cell_type": "code",
   "execution_count": 17,
   "id": "7ce6308f",
   "metadata": {},
   "outputs": [],
   "source": [
    "CM_u = [80,50,30] # [] indicates that this is a list"
   ]
  },
  {
   "cell_type": "code",
   "execution_count": 20,
   "id": "2a60ef7e",
   "metadata": {},
   "outputs": [
    {
     "data": {
      "text/plain": [
       "80"
      ]
     },
     "execution_count": 20,
     "metadata": {},
     "output_type": "execute_result"
    }
   ],
   "source": [
    "CM_u[0]"
   ]
  },
  {
   "cell_type": "code",
   "execution_count": 23,
   "id": "9daa6667",
   "metadata": {},
   "outputs": [],
   "source": [
    "CM1 = volume * CM_u[0]\n",
    "CM2 = volume * CM_u[1]\n",
    "CM3 = volume * CM_u[2]"
   ]
  },
  {
   "cell_type": "code",
   "execution_count": 25,
   "id": "04a5560a",
   "metadata": {},
   "outputs": [],
   "source": [
    "FC = [2000,800,0]"
   ]
  },
  {
   "cell_type": "code",
   "execution_count": 29,
   "id": "0146037f",
   "metadata": {},
   "outputs": [],
   "source": [
    "OI1 = CM1 - FC[0]\n",
    "OI2 = CM2 - FC[1]\n",
    "OI3 = CM3 - FC[2]"
   ]
  },
  {
   "cell_type": "code",
   "execution_count": 30,
   "id": "44a9f5e7",
   "metadata": {},
   "outputs": [],
   "source": [
    "# put the volumes and oi's into a frame\n",
    "col_dict =  {\n",
    "            \"volume\":volume, \n",
    "            \"OI1\":OI1,\n",
    "            \"OI2\":OI2,\n",
    "            \"OI3\":OI3,\n",
    "            }\n",
    "OI_data = pd.DataFrame(col_dict, columns=list(col_dict.keys()))"
   ]
  },
  {
   "cell_type": "code",
   "execution_count": 36,
   "id": "f33a725a",
   "metadata": {},
   "outputs": [
    {
     "data": {
      "text/html": [
       "<div>\n",
       "<style scoped>\n",
       "    .dataframe tbody tr th:only-of-type {\n",
       "        vertical-align: middle;\n",
       "    }\n",
       "\n",
       "    .dataframe tbody tr th {\n",
       "        vertical-align: top;\n",
       "    }\n",
       "\n",
       "    .dataframe thead th {\n",
       "        text-align: right;\n",
       "    }\n",
       "</style>\n",
       "<table border=\"1\" class=\"dataframe\">\n",
       "  <thead>\n",
       "    <tr style=\"text-align: right;\">\n",
       "      <th></th>\n",
       "      <th>volume</th>\n",
       "      <th>OI1</th>\n",
       "      <th>OI2</th>\n",
       "      <th>OI3</th>\n",
       "    </tr>\n",
       "  </thead>\n",
       "  <tbody>\n",
       "    <tr>\n",
       "      <th>count</th>\n",
       "      <td>156.000000</td>\n",
       "      <td>156.000000</td>\n",
       "      <td>156.000000</td>\n",
       "      <td>156.000000</td>\n",
       "    </tr>\n",
       "    <tr>\n",
       "      <th>mean</th>\n",
       "      <td>50.032051</td>\n",
       "      <td>2002.564103</td>\n",
       "      <td>1701.602564</td>\n",
       "      <td>1500.961538</td>\n",
       "    </tr>\n",
       "    <tr>\n",
       "      <th>std</th>\n",
       "      <td>30.164799</td>\n",
       "      <td>2413.183915</td>\n",
       "      <td>1508.239947</td>\n",
       "      <td>904.943968</td>\n",
       "    </tr>\n",
       "    <tr>\n",
       "      <th>min</th>\n",
       "      <td>0.000000</td>\n",
       "      <td>-2000.000000</td>\n",
       "      <td>-800.000000</td>\n",
       "      <td>0.000000</td>\n",
       "    </tr>\n",
       "    <tr>\n",
       "      <th>25%</th>\n",
       "      <td>22.000000</td>\n",
       "      <td>-240.000000</td>\n",
       "      <td>300.000000</td>\n",
       "      <td>660.000000</td>\n",
       "    </tr>\n",
       "    <tr>\n",
       "      <th>50%</th>\n",
       "      <td>48.500000</td>\n",
       "      <td>1880.000000</td>\n",
       "      <td>1625.000000</td>\n",
       "      <td>1455.000000</td>\n",
       "    </tr>\n",
       "    <tr>\n",
       "      <th>75%</th>\n",
       "      <td>79.000000</td>\n",
       "      <td>4320.000000</td>\n",
       "      <td>3150.000000</td>\n",
       "      <td>2370.000000</td>\n",
       "    </tr>\n",
       "    <tr>\n",
       "      <th>max</th>\n",
       "      <td>99.000000</td>\n",
       "      <td>5920.000000</td>\n",
       "      <td>4150.000000</td>\n",
       "      <td>2970.000000</td>\n",
       "    </tr>\n",
       "  </tbody>\n",
       "</table>\n",
       "</div>"
      ],
      "text/plain": [
       "           volume          OI1          OI2          OI3\n",
       "count  156.000000   156.000000   156.000000   156.000000\n",
       "mean    50.032051  2002.564103  1701.602564  1500.961538\n",
       "std     30.164799  2413.183915  1508.239947   904.943968\n",
       "min      0.000000 -2000.000000  -800.000000     0.000000\n",
       "25%     22.000000  -240.000000   300.000000   660.000000\n",
       "50%     48.500000  1880.000000  1625.000000  1455.000000\n",
       "75%     79.000000  4320.000000  3150.000000  2370.000000\n",
       "max     99.000000  5920.000000  4150.000000  2970.000000"
      ]
     },
     "execution_count": 36,
     "metadata": {},
     "output_type": "execute_result"
    }
   ],
   "source": [
    "OI_data.describe()"
   ]
  },
  {
   "cell_type": "code",
   "execution_count": 45,
   "id": "9f334764",
   "metadata": {},
   "outputs": [
    {
     "data": {
      "text/plain": [
       "42"
      ]
     },
     "execution_count": 45,
     "metadata": {},
     "output_type": "execute_result"
    }
   ],
   "source": [
    "# slice the dataframe and get its length\n",
    "len(OI_data[OI_data['OI1']<0])"
   ]
  },
  {
   "cell_type": "code",
   "execution_count": 46,
   "id": "f11d3981",
   "metadata": {},
   "outputs": [],
   "source": [
    "loss = [\n",
    "    len(OI_data[OI_data['OI1']<0]),\n",
    "    len(OI_data[OI_data['OI2']<0]),\n",
    "    len(OI_data[OI_data['OI3']<0])\n",
    "]"
   ]
  },
  {
   "cell_type": "code",
   "execution_count": 47,
   "id": "cbcceeb4",
   "metadata": {},
   "outputs": [
    {
     "data": {
      "text/plain": [
       "[42, 26, 0]"
      ]
     },
     "execution_count": 47,
     "metadata": {},
     "output_type": "execute_result"
    }
   ],
   "source": [
    "loss"
   ]
  },
  {
   "cell_type": "code",
   "execution_count": 48,
   "id": "73ff31fc",
   "metadata": {},
   "outputs": [],
   "source": [
    "prLoss = [x/size for x in loss]"
   ]
  },
  {
   "cell_type": "code",
   "execution_count": 49,
   "id": "6dcfadaf",
   "metadata": {},
   "outputs": [
    {
     "data": {
      "text/plain": [
       "[0.2692307692307692, 0.16666666666666666, 0.0]"
      ]
     },
     "execution_count": 49,
     "metadata": {},
     "output_type": "execute_result"
    }
   ],
   "source": [
    "prLoss"
   ]
  },
  {
   "cell_type": "code",
   "execution_count": 50,
   "id": "294057a4",
   "metadata": {},
   "outputs": [
    {
     "data": {
      "text/html": [
       "<div>\n",
       "<style scoped>\n",
       "    .dataframe tbody tr th:only-of-type {\n",
       "        vertical-align: middle;\n",
       "    }\n",
       "\n",
       "    .dataframe tbody tr th {\n",
       "        vertical-align: top;\n",
       "    }\n",
       "\n",
       "    .dataframe thead th {\n",
       "        text-align: right;\n",
       "    }\n",
       "</style>\n",
       "<table border=\"1\" class=\"dataframe\">\n",
       "  <thead>\n",
       "    <tr style=\"text-align: right;\">\n",
       "      <th></th>\n",
       "      <th>volume</th>\n",
       "      <th>OI1</th>\n",
       "      <th>OI2</th>\n",
       "      <th>OI3</th>\n",
       "    </tr>\n",
       "  </thead>\n",
       "  <tbody>\n",
       "    <tr>\n",
       "      <th>0</th>\n",
       "      <td>9</td>\n",
       "      <td>-1280</td>\n",
       "      <td>-350</td>\n",
       "      <td>270</td>\n",
       "    </tr>\n",
       "    <tr>\n",
       "      <th>1</th>\n",
       "      <td>15</td>\n",
       "      <td>-800</td>\n",
       "      <td>-50</td>\n",
       "      <td>450</td>\n",
       "    </tr>\n",
       "    <tr>\n",
       "      <th>2</th>\n",
       "      <td>64</td>\n",
       "      <td>3120</td>\n",
       "      <td>2400</td>\n",
       "      <td>1920</td>\n",
       "    </tr>\n",
       "    <tr>\n",
       "      <th>3</th>\n",
       "      <td>28</td>\n",
       "      <td>240</td>\n",
       "      <td>600</td>\n",
       "      <td>840</td>\n",
       "    </tr>\n",
       "    <tr>\n",
       "      <th>4</th>\n",
       "      <td>89</td>\n",
       "      <td>5120</td>\n",
       "      <td>3650</td>\n",
       "      <td>2670</td>\n",
       "    </tr>\n",
       "    <tr>\n",
       "      <th>...</th>\n",
       "      <td>...</td>\n",
       "      <td>...</td>\n",
       "      <td>...</td>\n",
       "      <td>...</td>\n",
       "    </tr>\n",
       "    <tr>\n",
       "      <th>151</th>\n",
       "      <td>96</td>\n",
       "      <td>5680</td>\n",
       "      <td>4000</td>\n",
       "      <td>2880</td>\n",
       "    </tr>\n",
       "    <tr>\n",
       "      <th>152</th>\n",
       "      <td>73</td>\n",
       "      <td>3840</td>\n",
       "      <td>2850</td>\n",
       "      <td>2190</td>\n",
       "    </tr>\n",
       "    <tr>\n",
       "      <th>153</th>\n",
       "      <td>40</td>\n",
       "      <td>1200</td>\n",
       "      <td>1200</td>\n",
       "      <td>1200</td>\n",
       "    </tr>\n",
       "    <tr>\n",
       "      <th>154</th>\n",
       "      <td>43</td>\n",
       "      <td>1440</td>\n",
       "      <td>1350</td>\n",
       "      <td>1290</td>\n",
       "    </tr>\n",
       "    <tr>\n",
       "      <th>155</th>\n",
       "      <td>90</td>\n",
       "      <td>5200</td>\n",
       "      <td>3700</td>\n",
       "      <td>2700</td>\n",
       "    </tr>\n",
       "  </tbody>\n",
       "</table>\n",
       "<p>156 rows × 4 columns</p>\n",
       "</div>"
      ],
      "text/plain": [
       "     volume   OI1   OI2   OI3\n",
       "0         9 -1280  -350   270\n",
       "1        15  -800   -50   450\n",
       "2        64  3120  2400  1920\n",
       "3        28   240   600   840\n",
       "4        89  5120  3650  2670\n",
       "..      ...   ...   ...   ...\n",
       "151      96  5680  4000  2880\n",
       "152      73  3840  2850  2190\n",
       "153      40  1200  1200  1200\n",
       "154      43  1440  1350  1290\n",
       "155      90  5200  3700  2700\n",
       "\n",
       "[156 rows x 4 columns]"
      ]
     },
     "execution_count": 50,
     "metadata": {},
     "output_type": "execute_result"
    }
   ],
   "source": [
    "OI_data"
   ]
  },
  {
   "cell_type": "markdown",
   "id": "660c31a7",
   "metadata": {},
   "source": [
    "# Now lets plot the data:"
   ]
  },
  {
   "cell_type": "code",
   "execution_count": 51,
   "id": "002e1db0",
   "metadata": {},
   "outputs": [
    {
     "data": {
      "image/png": "[encoded data removed]",
      "text/plain": [
       "<Figure size 432x288 with 1 Axes>"
      ]
     },
     "metadata": {
      "needs_background": "light"
     },
     "output_type": "display_data"
    }
   ],
   "source": [
    "ax = OI_data.plot(kind=\"scatter\", x=\"volume\",y=\"OI1\", color=\"b\", label=\"Option 1\")\n",
    "OI_data.plot(kind=\"scatter\", x=\"volume\",y=\"OI2\", color=\"r\", label=\"Option 2\", ax=ax)\n",
    "OI_data.plot(kind=\"scatter\", x=\"volume\",y=\"OI3\", color=\"g\", label=\"Option 3\", ax=ax)\n",
    "\n",
    "ax.set_xlabel(\"Units Sold\")\n",
    "ax.set_ylabel(\"Operating Income\")\n",
    "plt.show()"
   ]
  },
  {
   "cell_type": "code",
   "execution_count": 55,
   "id": "57e88d51",
   "metadata": {},
   "outputs": [
    {
     "data": {
      "text/plain": [
       "<AxesSubplot:ylabel='Frequency'>"
      ]
     },
     "execution_count": 55,
     "metadata": {},
     "output_type": "execute_result"
    },
    {
     "data": {
      "image/png": "[encoded data removed]",
      "text/plain": [
       "<Figure size 432x288 with 1 Axes>"
      ]
     },
     "metadata": {
      "needs_background": "light"
     },
     "output_type": "display_data"
    }
   ],
   "source": [
    "OI_data[['OI1']].plot(kind='hist',color='b', bins=50)"
   ]
  },
  {
   "cell_type": "code",
   "execution_count": 57,
   "id": "8935e771",
   "metadata": {},
   "outputs": [
    {
     "data": {
      "text/plain": [
       "<AxesSubplot:ylabel='Frequency'>"
      ]
     },
     "execution_count": 57,
     "metadata": {},
     "output_type": "execute_result"
    },
    {
     "data": {
      "image/png": "[encoded data removed]",
      "text/plain": [
       "<Figure size 432x288 with 1 Axes>"
      ]
     },
     "metadata": {
      "needs_background": "light"
     },
     "output_type": "display_data"
    }
   ],
   "source": [
    "OI_data[['OI2']].plot(kind='hist',color='r', bins=50)"
   ]
  },
  {
   "cell_type": "code",
   "execution_count": 58,
   "id": "3462db87",
   "metadata": {},
   "outputs": [
    {
     "data": {
      "text/plain": [
       "<AxesSubplot:ylabel='Frequency'>"
      ]
     },
     "execution_count": 58,
     "metadata": {},
     "output_type": "execute_result"
    },
    {
     "data": {
      "image/png": "[encoded data removed]",
      "text/plain": [
       "<Figure size 432x288 with 1 Axes>"
      ]
     },
     "metadata": {
      "needs_background": "light"
     },
     "output_type": "display_data"
    }
   ],
   "source": [
    "OI_data[['OI3']].plot(kind='hist',color='g', bins=50)"
   ]
  },
  {
   "cell_type": "code",
   "execution_count": 59,
   "id": "f9583e21",
   "metadata": {},
   "outputs": [
    {
     "data": {
      "text/plain": [
       "<AxesSubplot:ylabel='Frequency'>"
      ]
     },
     "execution_count": 59,
     "metadata": {},
     "output_type": "execute_result"
    },
    {
     "data": {
      "image/png": "[encoded data removed]",
      "text/plain": [
       "<Figure size 432x288 with 1 Axes>"
      ]
     },
     "metadata": {
      "needs_background": "light"
     },
     "output_type": "display_data"
    }
   ],
   "source": [
    "OI_data[['OI1','OI2','OI3']].plot(kind='hist', bins=50)"
   ]
  },
  {
   "cell_type": "code",
   "execution_count": null,
   "id": "930cc869",
   "metadata": {},
   "outputs": [],
   "source": []
  }
 ],
 "metadata": {
  "kernelspec": {
   "display_name": "Python 3",
   "language": "python",
   "name": "python3"
  },
  "language_info": {
   "codemirror_mode": {
    "name": "ipython",
    "version": 3
   },
   "file_extension": ".py",
   "mimetype": "text/x-python",
   "name": "python",
   "nbconvert_exporter": "python",
   "pygments_lexer": "ipython3",
   "version": "3.7.11"
  }
 },
 "nbformat": 4,
 "nbformat_minor": 5
}
